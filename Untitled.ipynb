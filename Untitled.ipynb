{
 "cells": [
  {
   "cell_type": "markdown",
   "metadata": {},
   "source": [
    "First Test"
   ]
  },
  {
   "cell_type": "code",
   "execution_count": 1,
   "metadata": {},
   "outputs": [],
   "source": [
    "import pandas as pd\n",
    "train_df = pd.read_csv(r'train_set.csv', sep='\\t', encoding='gbk')"
   ]
  },
  {
   "cell_type": "code",
   "execution_count": 15,
   "metadata": {},
   "outputs": [
    {
     "data": {
      "text/plain": [
       "Text(0.5, 0, 'category')"
      ]
     },
     "execution_count": 15,
     "metadata": {},
     "output_type": "execute_result"
    },
    {
     "data": {
      "image/png": "[encoded data removed]",
      "text/plain": [
       "<Figure size 432x288 with 1 Axes>"
      ]
     },
     "metadata": {
      "needs_background": "light"
     },
     "output_type": "display_data"
    }
   ],
   "source": [
    "from matplotlib import pyplot as plt\n",
    "from collections import Counter\n",
    "train_df['label'].value_counts().plot(kind='bar')\n",
    "plt.title('News class count')\n",
    "plt.xlabel(\"category\")"
   ]
  },
  {
   "cell_type": "code",
   "execution_count": 18,
   "metadata": {},
   "outputs": [
    {
     "name": "stdout",
     "output_type": "stream",
     "text": [
      "('3750', 197997)\n",
      "('900', 197653)\n",
      "('648', 191975)\n"
     ]
    }
   ],
   "source": [
    "train_df['text_unique'] = train_df['text'].apply(\n",
    "    lambda x: ' '.join(list(set(x.split(' ')))))\n",
    "all_lines = ' '.join(list(train_df['text_unique']))\n",
    "word_count = Counter(all_lines.split(\" \"))\n",
    "word_count = sorted(word_count.items(), key=lambda d: int(d[1]), reverse=True)\n",
    "print(word_count[0])\n",
    "print(word_count[1])\n",
    "print(word_count[2])"
   ]
  },
  {
   "cell_type": "markdown",
   "metadata": {},
   "source": [
    "wordBag"
   ]
  },
  {
   "cell_type": "code",
   "execution_count": 2,
   "metadata": {},
   "outputs": [
    {
     "name": "stdout",
     "output_type": "stream",
     "text": [
      "0.7416952793751392\n"
     ]
    }
   ],
   "source": [
    "import pandas as pd\n",
    "from sklearn.feature_extraction.text import CountVectorizer\n",
    "from sklearn.linear_model import RidgeClassifier\n",
    "from sklearn.metrics import f1_score\n",
    "train_df = pd.read_csv('train_set.csv', sep='\\t', nrows=15000)\n",
    "vectorizer = CountVectorizer(max_features=3000)\n",
    "train_test = vectorizer.fit_transform(train_df['text'])\n",
    "clf = RidgeClassifier()\n",
    "clf.fit(train_test[:10000], train_df['label'].values[:10000])\n",
    "val_pred = clf.predict(train_test[10000:])\n",
    "print(f1_score(train_df['label'].values[10000:], val_pred, average='macro'))"
   ]
  },
  {
   "cell_type": "markdown",
   "metadata": {},
   "source": [
    "tfidf"
   ]
  },
  {
   "cell_type": "code",
   "execution_count": 17,
   "metadata": {},
   "outputs": [
    {
     "name": "stdout",
     "output_type": "stream",
     "text": [
      "0.8721598830546126\n"
     ]
    }
   ],
   "source": [
    "# import pandas as pd\n",
    "from sklearn.feature_extraction.text import TfidfVectorizer\n",
    "# from sklearn.linear_model import RidgeClassifier\n",
    "# from sklearn.metrics import f1_score\n",
    "# train_df = pd.read_csv('../input/train_set.csv', sep='\\t', nrows=15000)\n",
    "tfidf = TfidfVectorizer(ngram_range=(1, 3), max_features=3000)\n",
    "train_test = tfidf.fit_transform(train_df['text'])\n",
    "clf = RidgeClassifier()\n",
    "clf.fit(train_test[:10000], train_df['label'].values[:10000])\n",
    "val_pred = clf.predict(train_test[10000:])\n",
    "print(f1_score(train_df['label'].values[10000:], val_pred, average='macro'))"
   ]
  },
  {
   "cell_type": "markdown",
   "metadata": {},
   "source": [
    "fastTxt"
   ]
  },
  {
   "cell_type": "code",
   "execution_count": 27,
   "metadata": {},
   "outputs": [
    {
     "name": "stdout",
     "output_type": "stream",
     "text": [
      "Model: \"sequential_3\"\n",
      "_________________________________________________________________\n",
      "Layer (type)                 Output Shape              Param #   \n",
      "=================================================================\n",
      "embedding_3 (Embedding)      (None, 500, 100)          5000000   \n",
      "_________________________________________________________________\n",
      "global_average_pooling1d_3 ( (None, 100)               0         \n",
      "_________________________________________________________________\n",
      "dense_3 (Dense)              (None, 14)                1414      \n",
      "=================================================================\n",
      "Total params: 5,001,414\n",
      "Trainable params: 5,001,414\n",
      "Non-trainable params: 0\n",
      "_________________________________________________________________\n"
     ]
    }
   ],
   "source": [
    "# %reset \n",
    "from tensorflow.keras.models import Sequential\n",
    "from tensorflow.keras import layers\n",
    "from sklearn.metrics import f1_score\n",
    "from sklearn.model_selection import train_test_split\n",
    "\n",
    "VOCAB_SIZE = 50000\n",
    "EMBEDDING_DIM = 100\n",
    "MAX_WORDS =500\n",
    "CLASS_NUM = 14\n",
    "\n",
    "def build_fastText():\n",
    "    model = Sequential()\n",
    "    model.add(layers.Embedding(VOCAB_SIZE,EMBEDDING_DIM,input_length=MAX_WORDS))\n",
    "    model.add(layers.GlobalAveragePooling1D())\n",
    "    model.add(layers.Dense(CLASS_NUM,activation='softmax'))\n",
    "    model.compile(loss='sparse_categorical_crossentropy',optimizer='Adam',metrics=['accuracy'])\n",
    "    return model\n",
    "model = build_fastText()\n",
    "model.summary()"
   ]
  },
  {
   "cell_type": "code",
   "execution_count": 21,
   "metadata": {},
   "outputs": [],
   "source": [
    "import pandas as pd\n",
    "train_df = pd.read_csv('train_set.csv', sep='\\t', nrows=50000)\n",
    "train_df['text'] = train_df['text'].apply(lambda x:x[0:2500])\n",
    "train_df_sp_dim = train_df.text.str.split(' ',expand=True)"
   ]
  },
  {
   "cell_type": "code",
   "execution_count": 22,
   "metadata": {},
   "outputs": [],
   "source": [
    "train_df_sp_dim.iloc[:,0:500].join(train_df.label).to_csv(\"train_df_sp_dim.csv\",index=False)"
   ]
  },
  {
   "cell_type": "code",
   "execution_count": 23,
   "metadata": {},
   "outputs": [],
   "source": [
    "X_train, X_test, y_train, y_test = train_test_split(\n",
    "    train_df_sp_dim.iloc[:, 0:500], train_df[['label']], test_size=0.3, random_state=0)"
   ]
  },
  {
   "cell_type": "code",
   "execution_count": 30,
   "metadata": {
    "collapsed": true,
    "jupyter": {
     "outputs_hidden": true
    }
   },
   "outputs": [
    {
     "name": "stdout",
     "output_type": "stream",
     "text": [
      "Train on 26250 samples, validate on 8750 samples\n",
      "Epoch 1/50\n",
      "26250/26250 [==============================] - 5s 201us/sample - loss: 0.2359 - accuracy: 0.9357 - val_loss: 0.3646 - val_accuracy: 0.8951\n",
      "Epoch 2/50\n",
      "26250/26250 [==============================] - 5s 200us/sample - loss: 0.2318 - accuracy: 0.9367 - val_loss: 0.3634 - val_accuracy: 0.8960\n",
      "Epoch 3/50\n",
      "26250/26250 [==============================] - 5s 194us/sample - loss: 0.2280 - accuracy: 0.9377 - val_loss: 0.3627 - val_accuracy: 0.8959\n",
      "Epoch 4/50\n",
      "26250/26250 [==============================] - 5s 193us/sample - loss: 0.2241 - accuracy: 0.9384 - val_loss: 0.3617 - val_accuracy: 0.8973\n",
      "Epoch 5/50\n",
      "26250/26250 [==============================] - 5s 198us/sample - loss: 0.2204 - accuracy: 0.9402 - val_loss: 0.3607 - val_accuracy: 0.8973\n",
      "Epoch 6/50\n",
      "26250/26250 [==============================] - 5s 200us/sample - loss: 0.2167 - accuracy: 0.9416 - val_loss: 0.3601 - val_accuracy: 0.8976\n",
      "Epoch 7/50\n",
      "26250/26250 [==============================] - 5s 205us/sample - loss: 0.2132 - accuracy: 0.9426 - val_loss: 0.3593 - val_accuracy: 0.8973\n",
      "Epoch 8/50\n",
      "26250/26250 [==============================] - 5s 206us/sample - loss: 0.2099 - accuracy: 0.9435 - val_loss: 0.3589 - val_accuracy: 0.8979\n",
      "Epoch 9/50\n",
      "26250/26250 [==============================] - 5s 203us/sample - loss: 0.2065 - accuracy: 0.9438 - val_loss: 0.3584 - val_accuracy: 0.8981\n",
      "Epoch 10/50\n",
      "26250/26250 [==============================] - 5s 203us/sample - loss: 0.2031 - accuracy: 0.9451 - val_loss: 0.3579 - val_accuracy: 0.8976\n",
      "Epoch 11/50\n",
      "26250/26250 [==============================] - 5s 199us/sample - loss: 0.1999 - accuracy: 0.9462 - val_loss: 0.3573 - val_accuracy: 0.8984\n",
      "Epoch 12/50\n",
      "26250/26250 [==============================] - 5s 198us/sample - loss: 0.1966 - accuracy: 0.9468 - val_loss: 0.3573 - val_accuracy: 0.8991\n",
      "Epoch 13/50\n",
      "26250/26250 [==============================] - 5s 199us/sample - loss: 0.1934 - accuracy: 0.9481 - val_loss: 0.3571 - val_accuracy: 0.8984\n",
      "Epoch 14/50\n",
      "26250/26250 [==============================] - 5s 194us/sample - loss: 0.1904 - accuracy: 0.9488 - val_loss: 0.3568 - val_accuracy: 0.8989\n",
      "Epoch 15/50\n",
      "26250/26250 [==============================] - 5s 193us/sample - loss: 0.1873 - accuracy: 0.9497 - val_loss: 0.3570 - val_accuracy: 0.8984\n",
      "Epoch 16/50\n",
      "26250/26250 [==============================] - 5s 194us/sample - loss: 0.1845 - accuracy: 0.9504 - val_loss: 0.3564 - val_accuracy: 0.8979\n",
      "Epoch 17/50\n",
      "26250/26250 [==============================] - 5s 195us/sample - loss: 0.1816 - accuracy: 0.9509 - val_loss: 0.3565 - val_accuracy: 0.8994\n",
      "Epoch 18/50\n",
      "26250/26250 [==============================] - 5s 193us/sample - loss: 0.1786 - accuracy: 0.9517 - val_loss: 0.3564 - val_accuracy: 0.8993\n",
      "Epoch 19/50\n",
      "26250/26250 [==============================] - 5s 193us/sample - loss: 0.1758 - accuracy: 0.9525 - val_loss: 0.3572 - val_accuracy: 0.8989\n",
      "Epoch 20/50\n",
      "26250/26250 [==============================] - 5s 194us/sample - loss: 0.1733 - accuracy: 0.9535 - val_loss: 0.3568 - val_accuracy: 0.8983\n",
      "Epoch 21/50\n",
      "26250/26250 [==============================] - 5s 196us/sample - loss: 0.1705 - accuracy: 0.9553 - val_loss: 0.3573 - val_accuracy: 0.8983\n",
      "Epoch 22/50\n",
      "26250/26250 [==============================] - 5s 198us/sample - loss: 0.1678 - accuracy: 0.9554 - val_loss: 0.3571 - val_accuracy: 0.8989\n",
      "Epoch 23/50\n",
      "26250/26250 [==============================] - 5s 195us/sample - loss: 0.1651 - accuracy: 0.9561 - val_loss: 0.3573 - val_accuracy: 0.8986\n",
      "Epoch 24/50\n",
      "26250/26250 [==============================] - 5s 196us/sample - loss: 0.1625 - accuracy: 0.9565 - val_loss: 0.3580 - val_accuracy: 0.8971\n",
      "Epoch 25/50\n",
      "26250/26250 [==============================] - 5s 194us/sample - loss: 0.1600 - accuracy: 0.9571 - val_loss: 0.3580 - val_accuracy: 0.8989\n",
      "Epoch 26/50\n",
      "26250/26250 [==============================] - 5s 195us/sample - loss: 0.1575 - accuracy: 0.9583 - val_loss: 0.3587 - val_accuracy: 0.8987\n",
      "Epoch 27/50\n",
      "26250/26250 [==============================] - 5s 194us/sample - loss: 0.1549 - accuracy: 0.9592 - val_loss: 0.3587 - val_accuracy: 0.8985\n",
      "Epoch 28/50\n",
      "26250/26250 [==============================] - 5s 195us/sample - loss: 0.1526 - accuracy: 0.9595 - val_loss: 0.3596 - val_accuracy: 0.8984\n",
      "Epoch 29/50\n",
      "26250/26250 [==============================] - 5s 195us/sample - loss: 0.1502 - accuracy: 0.9606 - val_loss: 0.3598 - val_accuracy: 0.8982\n",
      "Epoch 30/50\n",
      "26250/26250 [==============================] - 5s 195us/sample - loss: 0.1477 - accuracy: 0.9617 - val_loss: 0.3608 - val_accuracy: 0.8981\n",
      "Epoch 31/50\n",
      "26250/26250 [==============================] - 5s 194us/sample - loss: 0.1454 - accuracy: 0.9622 - val_loss: 0.3610 - val_accuracy: 0.8992\n",
      "Epoch 32/50\n",
      "26250/26250 [==============================] - 5s 194us/sample - loss: 0.1432 - accuracy: 0.9629 - val_loss: 0.3620 - val_accuracy: 0.8985\n",
      "Epoch 33/50\n",
      "26250/26250 [==============================] - 5s 196us/sample - loss: 0.1410 - accuracy: 0.9638 - val_loss: 0.3627 - val_accuracy: 0.8977\n",
      "Epoch 34/50\n",
      "26250/26250 [==============================] - 5s 196us/sample - loss: 0.1388 - accuracy: 0.9645 - val_loss: 0.3633 - val_accuracy: 0.8987\n",
      "Epoch 35/50\n",
      "26250/26250 [==============================] - 5s 194us/sample - loss: 0.1366 - accuracy: 0.9654 - val_loss: 0.3646 - val_accuracy: 0.8983\n",
      "Epoch 36/50\n",
      "26250/26250 [==============================] - 5s 196us/sample - loss: 0.1345 - accuracy: 0.9655 - val_loss: 0.3647 - val_accuracy: 0.8990\n",
      "Epoch 37/50\n",
      "26250/26250 [==============================] - 5s 194us/sample - loss: 0.1324 - accuracy: 0.9661 - val_loss: 0.3656 - val_accuracy: 0.8985\n",
      "Epoch 38/50\n",
      "26250/26250 [==============================] - 5s 194us/sample - loss: 0.1301 - accuracy: 0.9672 - val_loss: 0.3666 - val_accuracy: 0.8994\n",
      "Epoch 39/50\n",
      "26250/26250 [==============================] - 5s 195us/sample - loss: 0.1282 - accuracy: 0.9675 - val_loss: 0.3675 - val_accuracy: 0.8982\n",
      "Epoch 40/50\n",
      "26250/26250 [==============================] - 5s 196us/sample - loss: 0.1262 - accuracy: 0.9680 - val_loss: 0.3682 - val_accuracy: 0.8979\n",
      "Epoch 41/50\n",
      "26250/26250 [==============================] - 5s 195us/sample - loss: 0.1241 - accuracy: 0.9690 - val_loss: 0.3695 - val_accuracy: 0.8978\n",
      "Epoch 42/50\n",
      "26250/26250 [==============================] - 5s 197us/sample - loss: 0.1224 - accuracy: 0.9693 - val_loss: 0.3706 - val_accuracy: 0.8978\n",
      "Epoch 43/50\n",
      "26250/26250 [==============================] - 5s 195us/sample - loss: 0.1204 - accuracy: 0.9699 - val_loss: 0.3709 - val_accuracy: 0.8990\n",
      "Epoch 44/50\n",
      "26250/26250 [==============================] - 5s 196us/sample - loss: 0.1185 - accuracy: 0.9710 - val_loss: 0.3723 - val_accuracy: 0.8971\n",
      "Epoch 45/50\n",
      "26250/26250 [==============================] - 5s 201us/sample - loss: 0.1165 - accuracy: 0.9710 - val_loss: 0.3735 - val_accuracy: 0.8974\n",
      "Epoch 46/50\n",
      "26250/26250 [==============================] - 5s 202us/sample - loss: 0.1148 - accuracy: 0.9715 - val_loss: 0.3744 - val_accuracy: 0.8973\n",
      "Epoch 47/50\n",
      "26250/26250 [==============================] - 5s 201us/sample - loss: 0.1128 - accuracy: 0.9720 - val_loss: 0.3757 - val_accuracy: 0.8975\n",
      "Epoch 48/50\n",
      "26250/26250 [==============================] - 5s 202us/sample - loss: 0.1111 - accuracy: 0.9730 - val_loss: 0.3765 - val_accuracy: 0.8975\n",
      "Epoch 49/50\n",
      "26250/26250 [==============================] - 5s 199us/sample - loss: 0.1096 - accuracy: 0.9734 - val_loss: 0.3778 - val_accuracy: 0.8973\n",
      "Epoch 50/50\n",
      "26250/26250 [==============================] - 5s 200us/sample - loss: 0.1076 - accuracy: 0.9738 - val_loss: 0.3791 - val_accuracy: 0.8970\n"
     ]
    },
    {
     "data": {
      "text/plain": [
       "<tensorflow.python.keras.callbacks.History at 0x2c859888>"
      ]
     },
     "execution_count": 30,
     "metadata": {},
     "output_type": "execute_result"
    }
   ],
   "source": [
    "# len(train_df.label_ft.unique())\n",
    "# train_df.label_ft.unique()\n",
    "# model = build_fastText()\n",
    "model.fit(X_train.astype('float64'), y_train.astype('float64'), batch_size=512,\n",
    "          epochs=50, validation_split=0.25,use_multiprocessing=True)"
   ]
  },
  {
   "cell_type": "markdown",
   "metadata": {},
   "source": [
    "textCnn"
   ]
  },
  {
   "cell_type": "code",
   "execution_count": 30,
   "metadata": {},
   "outputs": [],
   "source": [
    "import logging\n",
    "\n",
    "from tensorflow.keras import Input\n",
    "from tensorflow.keras.layers import Conv1D, MaxPool1D, Dense, Flatten, concatenate, Embedding\n",
    "from tensorflow.keras.models import Model\n",
    "from tensorflow.keras.utils import plot_model\n",
    "\n",
    "\n",
    "def textcnn( max_sequence_length, max_token_num, embedding_dim, output_dim, model_img_path=None, embedding_matrix=None):\n",
    "    \"\"\" TextCNN: 1. embedding layers, 2.convolution layer, 3.max-pooling, 4.softmax layer. \"\"\"\n",
    "    x_input = Input(shape=(max_sequence_length,))\n",
    "    logging.info(\"x_input.shape: %s\" % str(x_input.shape))  # (?, 60)\n",
    "\n",
    "    if embedding_matrix is None:\n",
    "        x_emb = Embedding(input_dim=max_token_num, output_dim=embedding_dim,\n",
    "                          input_length=max_sequence_length)(x_input)\n",
    "    else:\n",
    "        x_emb = Embedding(input_dim=max_token_num, output_dim=embedding_dim, input_length=max_sequence_length,\n",
    "                          weights=[embedding_matrix], trainable=True)(x_input)\n",
    "    logging.info(\"x_emb.shape: %s\" % str(x_emb.shape))  # (?, 60, 300)\n",
    "\n",
    "    pool_output = []\n",
    "    kernel_sizes = [1,2, 3, 4]\n",
    "    for kernel_size in kernel_sizes:\n",
    "        c = Conv1D(filters=1, kernel_size=kernel_size, strides=1)(x_emb)\n",
    "        p = MaxPool1D(pool_size=int(c.shape[1]))(c)\n",
    "        pool_output.append(p)\n",
    "        logging.info(\"kernel_size: %s \\t c.shape: %s \\t p.shape: %s\" %\n",
    "                     (kernel_size, str(c.shape), str(p.shape)))\n",
    "    pool_output = concatenate([p for p in pool_output])\n",
    "    logging.info(\"pool_output.shape: %s\" % str(pool_output.shape))  # (?, 1, 6)\n",
    "\n",
    "    x_flatten = Flatten()(pool_output)  # (?, 6)\n",
    "    y = Dense(output_dim, activation='softmax')(x_flatten)  # (?, 2)\n",
    "    logging.info(\"y.shape: %s \\n\" % str(y.shape))\n",
    "\n",
    "    model = Model([x_input], outputs=[y])\n",
    "    if model_img_path:\n",
    "        plot_model(model, to_file=model_img_path,\n",
    "                   show_shapes=True, show_layer_names=False)\n",
    "    model.compile(loss='sparse_categorical_crossentropy',optimizer='Adam',metrics=['accuracy'])\n",
    "    model.summary()\n",
    "    return model"
   ]
  },
  {
   "cell_type": "code",
   "execution_count": 25,
   "metadata": {},
   "outputs": [],
   "source": [
    "import pandas as pd\n",
    "train_df = pd.read_csv('train_set.csv', sep='\\t', nrows=130000)\n",
    "train_df['text'] = train_df['text'].apply(lambda x:x[0:2500])\n",
    "train_df_sp_dim = train_df.text.str.split(' ',expand=True)"
   ]
  },
  {
   "cell_type": "code",
   "execution_count": 26,
   "metadata": {},
   "outputs": [],
   "source": [
    "from sklearn.metrics import f1_score\n",
    "from sklearn.model_selection import train_test_split\n",
    "X_train, X_test, y_train, y_test = train_test_split(\n",
    "    train_df_sp_dim.iloc[:, 0:500].astype('float64'), train_df[['label']].astype('float64'), test_size=0.3, random_state=0)"
   ]
  },
  {
   "cell_type": "code",
   "execution_count": 31,
   "metadata": {},
   "outputs": [
    {
     "name": "stdout",
     "output_type": "stream",
     "text": [
      "Model: \"model_2\"\n",
      "__________________________________________________________________________________________________\n",
      "Layer (type)                    Output Shape         Param #     Connected to                     \n",
      "==================================================================================================\n",
      "input_3 (InputLayer)            [(None, 500)]        0                                            \n",
      "__________________________________________________________________________________________________\n",
      "embedding_2 (Embedding)         (None, 500, 100)     5000000     input_3[0][0]                    \n",
      "__________________________________________________________________________________________________\n",
      "conv1d_6 (Conv1D)               (None, 500, 1)       101         embedding_2[0][0]                \n",
      "__________________________________________________________________________________________________\n",
      "conv1d_7 (Conv1D)               (None, 499, 1)       201         embedding_2[0][0]                \n",
      "__________________________________________________________________________________________________\n",
      "conv1d_8 (Conv1D)               (None, 498, 1)       301         embedding_2[0][0]                \n",
      "__________________________________________________________________________________________________\n",
      "conv1d_9 (Conv1D)               (None, 497, 1)       401         embedding_2[0][0]                \n",
      "__________________________________________________________________________________________________\n",
      "max_pooling1d_6 (MaxPooling1D)  (None, 1, 1)         0           conv1d_6[0][0]                   \n",
      "__________________________________________________________________________________________________\n",
      "max_pooling1d_7 (MaxPooling1D)  (None, 1, 1)         0           conv1d_7[0][0]                   \n",
      "__________________________________________________________________________________________________\n",
      "max_pooling1d_8 (MaxPooling1D)  (None, 1, 1)         0           conv1d_8[0][0]                   \n",
      "__________________________________________________________________________________________________\n",
      "max_pooling1d_9 (MaxPooling1D)  (None, 1, 1)         0           conv1d_9[0][0]                   \n",
      "__________________________________________________________________________________________________\n",
      "concatenate_2 (Concatenate)     (None, 1, 4)         0           max_pooling1d_6[0][0]            \n",
      "                                                                 max_pooling1d_7[0][0]            \n",
      "                                                                 max_pooling1d_8[0][0]            \n",
      "                                                                 max_pooling1d_9[0][0]            \n",
      "__________________________________________________________________________________________________\n",
      "flatten_2 (Flatten)             (None, 4)            0           concatenate_2[0][0]              \n",
      "__________________________________________________________________________________________________\n",
      "dense_2 (Dense)                 (None, 14)           70          flatten_2[0][0]                  \n",
      "==================================================================================================\n",
      "Total params: 5,001,074\n",
      "Trainable params: 5,001,074\n",
      "Non-trainable params: 0\n",
      "__________________________________________________________________________________________________\n"
     ]
    }
   ],
   "source": [
    "VOCAB_SIZE = 50000\n",
    "EMBEDDING_DIM = 100\n",
    "MAX_WORDS = 500\n",
    "CLASS_NUM = 14\n",
    "model = textcnn( max_sequence_length=MAX_WORDS,\n",
    "        max_token_num=VOCAB_SIZE, embedding_dim=EMBEDDING_DIM, output_dim=CLASS_NUM)"
   ]
  },
  {
   "cell_type": "code",
   "execution_count": 32,
   "metadata": {
    "collapsed": true,
    "jupyter": {
     "outputs_hidden": true
    }
   },
   "outputs": [
    {
     "name": "stdout",
     "output_type": "stream",
     "text": [
      "Train on 68250 samples, validate on 22750 samples\n",
      "Epoch 1/50\n",
      "68250/68250 [==============================] - 30s 435us/sample - loss: 1.9313 - accuracy: 0.3836 - val_loss: 1.4773 - val_accuracy: 0.5616\n",
      "Epoch 2/50\n",
      "68250/68250 [==============================] - 28s 416us/sample - loss: 1.2698 - accuracy: 0.6248 - val_loss: 1.1414 - val_accuracy: 0.6593\n",
      "Epoch 3/50\n",
      "68250/68250 [==============================] - 28s 415us/sample - loss: 1.0435 - accuracy: 0.6842 - val_loss: 1.0251 - val_accuracy: 0.6923\n",
      "Epoch 4/50\n",
      "68250/68250 [==============================] - 28s 417us/sample - loss: 0.9352 - accuracy: 0.7148 - val_loss: 0.9707 - val_accuracy: 0.7118\n",
      "Epoch 5/50\n",
      "68250/68250 [==============================] - 29s 419us/sample - loss: 0.8713 - accuracy: 0.7350 - val_loss: 0.9372 - val_accuracy: 0.7224\n",
      "Epoch 6/50\n",
      "68250/68250 [==============================] - 29s 418us/sample - loss: 0.8272 - accuracy: 0.7474 - val_loss: 0.9155 - val_accuracy: 0.7280\n",
      "Epoch 7/50\n",
      "68250/68250 [==============================] - 29s 421us/sample - loss: 0.7922 - accuracy: 0.7595 - val_loss: 0.9039 - val_accuracy: 0.7328\n",
      "Epoch 8/50\n",
      "68250/68250 [==============================] - 29s 418us/sample - loss: 0.7643 - accuracy: 0.7669 - val_loss: 0.8933 - val_accuracy: 0.7372\n",
      "Epoch 9/50\n",
      "68250/68250 [==============================] - 29s 420us/sample - loss: 0.7381 - accuracy: 0.7764 - val_loss: 0.8853 - val_accuracy: 0.7439\n",
      "Epoch 10/50\n",
      "68250/68250 [==============================] - 29s 421us/sample - loss: 0.7161 - accuracy: 0.7831 - val_loss: 0.8809 - val_accuracy: 0.7472\n",
      "Epoch 11/50\n",
      "68250/68250 [==============================] - 29s 421us/sample - loss: 0.6991 - accuracy: 0.7886 - val_loss: 0.8786 - val_accuracy: 0.7486\n",
      "Epoch 12/50\n",
      "68250/68250 [==============================] - 29s 421us/sample - loss: 0.6849 - accuracy: 0.7928 - val_loss: 0.8717 - val_accuracy: 0.7512\n",
      "Epoch 13/50\n",
      "68250/68250 [==============================] - 29s 420us/sample - loss: 0.6711 - accuracy: 0.7982 - val_loss: 0.8715 - val_accuracy: 0.7544\n",
      "Epoch 14/50\n",
      "68250/68250 [==============================] - 29s 420us/sample - loss: 0.6590 - accuracy: 0.8026 - val_loss: 0.8655 - val_accuracy: 0.7555\n",
      "Epoch 15/50\n",
      "68250/68250 [==============================] - 29s 424us/sample - loss: 0.6454 - accuracy: 0.8075 - val_loss: 0.8581 - val_accuracy: 0.7611\n",
      "Epoch 16/50\n",
      "68250/68250 [==============================] - 29s 420us/sample - loss: 0.6337 - accuracy: 0.8122 - val_loss: 0.8580 - val_accuracy: 0.7622\n",
      "Epoch 17/50\n",
      "68250/68250 [==============================] - 29s 429us/sample - loss: 0.6238 - accuracy: 0.8168 - val_loss: 0.8598 - val_accuracy: 0.7636\n",
      "Epoch 18/50\n",
      "68250/68250 [==============================] - 29s 421us/sample - loss: 0.6138 - accuracy: 0.8211 - val_loss: 0.8568 - val_accuracy: 0.7661\n",
      "Epoch 19/50\n",
      "68250/68250 [==============================] - 31s 453us/sample - loss: 0.6065 - accuracy: 0.8235 - val_loss: 0.8605 - val_accuracy: 0.7655\n",
      "Epoch 20/50\n",
      "68250/68250 [==============================] - 34s 503us/sample - loss: 0.5992 - accuracy: 0.8258 - val_loss: 0.8598 - val_accuracy: 0.7662\n",
      "Epoch 21/50\n",
      "68250/68250 [==============================] - 31s 454us/sample - loss: 0.5938 - accuracy: 0.8279 - val_loss: 0.8610 - val_accuracy: 0.7670\n",
      "Epoch 22/50\n",
      "68250/68250 [==============================] - 30s 439us/sample - loss: 0.5878 - accuracy: 0.8296 - val_loss: 0.8667 - val_accuracy: 0.7654\n",
      "Epoch 23/50\n",
      "68250/68250 [==============================] - 30s 435us/sample - loss: 0.5823 - accuracy: 0.8314 - val_loss: 0.8688 - val_accuracy: 0.7671\n",
      "Epoch 24/50\n",
      "68250/68250 [==============================] - 30s 436us/sample - loss: 0.5785 - accuracy: 0.8331 - val_loss: 0.8613 - val_accuracy: 0.7699\n",
      "Epoch 25/50\n",
      "68250/68250 [==============================] - 30s 435us/sample - loss: 0.5738 - accuracy: 0.8345 - val_loss: 0.8673 - val_accuracy: 0.7713\n",
      "Epoch 26/50\n",
      "68250/68250 [==============================] - 30s 438us/sample - loss: 0.5696 - accuracy: 0.8364 - val_loss: 0.8651 - val_accuracy: 0.7723\n",
      "Epoch 27/50\n",
      "68250/68250 [==============================] - 30s 435us/sample - loss: 0.5655 - accuracy: 0.8388 - val_loss: 0.8673 - val_accuracy: 0.7718\n",
      "Epoch 28/50\n",
      "68250/68250 [==============================] - 30s 440us/sample - loss: 0.5618 - accuracy: 0.8395 - val_loss: 0.8698 - val_accuracy: 0.7709\n",
      "Epoch 29/50\n",
      "68250/68250 [==============================] - 30s 438us/sample - loss: 0.5588 - accuracy: 0.8406 - val_loss: 0.8705 - val_accuracy: 0.7716\n",
      "Epoch 30/50\n",
      "68250/68250 [==============================] - 30s 442us/sample - loss: 0.5549 - accuracy: 0.8410 - val_loss: 0.8738 - val_accuracy: 0.7731\n",
      "Epoch 31/50\n",
      "68250/68250 [==============================] - 30s 438us/sample - loss: 0.5524 - accuracy: 0.8419 - val_loss: 0.8717 - val_accuracy: 0.7736\n",
      "Epoch 32/50\n",
      "68250/68250 [==============================] - 30s 440us/sample - loss: 0.5498 - accuracy: 0.8438 - val_loss: 0.8743 - val_accuracy: 0.7720\n",
      "Epoch 33/50\n",
      "68250/68250 [==============================] - 30s 442us/sample - loss: 0.5470 - accuracy: 0.8437 - val_loss: 0.8785 - val_accuracy: 0.7724\n",
      "Epoch 34/50\n",
      "68250/68250 [==============================] - 30s 446us/sample - loss: 0.5448 - accuracy: 0.8441 - val_loss: 0.8783 - val_accuracy: 0.7731\n",
      "Epoch 35/50\n",
      "68250/68250 [==============================] - 30s 445us/sample - loss: 0.5420 - accuracy: 0.8449 - val_loss: 0.8782 - val_accuracy: 0.7720\n",
      "Epoch 36/50\n",
      "68250/68250 [==============================] - 30s 444us/sample - loss: 0.5405 - accuracy: 0.8450 - val_loss: 0.8819 - val_accuracy: 0.7719\n",
      "Epoch 37/50\n",
      "68250/68250 [==============================] - 30s 440us/sample - loss: 0.5383 - accuracy: 0.8467 - val_loss: 0.8822 - val_accuracy: 0.7738\n",
      "Epoch 38/50\n",
      "68250/68250 [==============================] - 30s 446us/sample - loss: 0.5355 - accuracy: 0.8476 - val_loss: 0.8826 - val_accuracy: 0.7730\n",
      "Epoch 39/50\n",
      "68250/68250 [==============================] - 30s 445us/sample - loss: 0.5335 - accuracy: 0.8478 - val_loss: 0.8842 - val_accuracy: 0.7719\n",
      "Epoch 40/50\n",
      "68250/68250 [==============================] - 30s 441us/sample - loss: 0.5316 - accuracy: 0.8479 - val_loss: 0.8856 - val_accuracy: 0.7744\n",
      "Epoch 41/50\n",
      "68250/68250 [==============================] - 30s 439us/sample - loss: 0.5302 - accuracy: 0.8488 - val_loss: 0.8859 - val_accuracy: 0.7730\n",
      "Epoch 42/50\n",
      "68250/68250 [==============================] - 30s 444us/sample - loss: 0.5294 - accuracy: 0.8489 - val_loss: 0.8854 - val_accuracy: 0.7725\n",
      "Epoch 43/50\n",
      "68250/68250 [==============================] - 30s 435us/sample - loss: 0.5267 - accuracy: 0.8494 - val_loss: 0.8893 - val_accuracy: 0.7724\n",
      "Epoch 44/50\n",
      "68250/68250 [==============================] - 30s 434us/sample - loss: 0.5247 - accuracy: 0.8504 - val_loss: 0.8896 - val_accuracy: 0.7720\n",
      "Epoch 45/50\n",
      "68250/68250 [==============================] - 30s 435us/sample - loss: 0.5240 - accuracy: 0.8503 - val_loss: 0.8897 - val_accuracy: 0.7740\n",
      "Epoch 46/50\n",
      "68250/68250 [==============================] - 30s 435us/sample - loss: 0.5220 - accuracy: 0.8511 - val_loss: 0.8914 - val_accuracy: 0.7751\n",
      "Epoch 47/50\n",
      "68250/68250 [==============================] - 30s 439us/sample - loss: 0.5204 - accuracy: 0.8516 - val_loss: 0.8953 - val_accuracy: 0.7747\n",
      "Epoch 48/50\n",
      "68250/68250 [==============================] - 30s 438us/sample - loss: 0.5191 - accuracy: 0.8514 - val_loss: 0.8934 - val_accuracy: 0.7738\n",
      "Epoch 49/50\n",
      "68250/68250 [==============================] - 30s 435us/sample - loss: 0.5179 - accuracy: 0.8516 - val_loss: 0.9001 - val_accuracy: 0.7746\n",
      "Epoch 50/50\n",
      "68250/68250 [==============================] - 30s 438us/sample - loss: 0.5169 - accuracy: 0.8532 - val_loss: 0.8977 - val_accuracy: 0.7744\n"
     ]
    },
    {
     "data": {
      "text/plain": [
       "<tensorflow.python.keras.callbacks.History at 0x4a54e8c8>"
      ]
     },
     "execution_count": 32,
     "metadata": {},
     "output_type": "execute_result"
    }
   ],
   "source": [
    "model.fit(X_train.astype('float64'), y_train.astype('float64'), batch_size=256,\n",
    "          epochs=50, validation_split=0.25,use_multiprocessing=True)"
   ]
  },
  {
   "cell_type": "code",
   "execution_count": 33,
   "metadata": {},
   "outputs": [
    {
     "name": "stdout",
     "output_type": "stream",
     "text": [
      "0.6412250023302687\n",
      "              precision    recall  f1-score   support\n",
      "\n",
      "         0.0       0.78      0.85      0.81      7576\n",
      "         1.0       0.83      0.87      0.85      7250\n",
      "         2.0       0.93      0.93      0.93      6132\n",
      "         3.0       0.77      0.82      0.79      4233\n",
      "         4.0       0.73      0.70      0.72      3011\n",
      "         5.0       0.62      0.60      0.61      2379\n",
      "         6.0       0.78      0.78      0.78      1975\n",
      "         7.0       0.50      0.40      0.44      1673\n",
      "         8.0       0.54      0.49      0.51      1531\n",
      "         9.0       0.75      0.64      0.69      1151\n",
      "        10.0       0.64      0.62      0.63       963\n",
      "        11.0       0.52      0.32      0.40       612\n",
      "        12.0       0.54      0.42      0.47       346\n",
      "        13.0       0.38      0.32      0.35       168\n",
      "\n",
      "    accuracy                           0.77     39000\n",
      "   macro avg       0.66      0.62      0.64     39000\n",
      "weighted avg       0.76      0.77      0.77     39000\n",
      "\n"
     ]
    }
   ],
   "source": [
    "from sklearn.metrics import classification_report\n",
    "import numpy as np\n",
    "val_pred = model.predict(X_test)\n",
    "y_pre = np.argmax(val_pred,axis=1)\n",
    "print(f1_score(y_test.to_numpy(), y_pre, average='macro'))\n",
    "print(classification_report(y_test,y_pre))"
   ]
  },
  {
   "cell_type": "markdown",
   "metadata": {},
   "source": [
    "build Word2Vec"
   ]
  },
  {
   "cell_type": "code",
   "execution_count": null,
   "metadata": {},
   "outputs": [],
   "source": [
    "%reset"
   ]
  },
  {
   "cell_type": "code",
   "execution_count": 1,
   "metadata": {},
   "outputs": [],
   "source": [
    "import pandas as pd\n",
    "import numpy as np\n",
    "train_df = pd.read_csv('train_set.csv', sep='\\t', nrows=130000)\n",
    "train_df['text'] = train_df['text'].apply(lambda x:x[0:2500])\n",
    "# train_df_sp_dim = train_df.text.str.split(' ',expand=True)\n",
    "sentence = list(train_df['text'].apply(lambda x:x.split(' ')[:500]))\n",
    "# train_df_sp_dim = pd.DataFrame(sentence).fillna(0)"
   ]
  },
  {
   "cell_type": "code",
   "execution_count": 23,
   "metadata": {},
   "outputs": [
    {
     "data": {
      "text/html": [
       "<div>\n",
       "<style scoped>\n",
       "    .dataframe tbody tr th:only-of-type {\n",
       "        vertical-align: middle;\n",
       "    }\n",
       "\n",
       "    .dataframe tbody tr th {\n",
       "        vertical-align: top;\n",
       "    }\n",
       "\n",
       "    .dataframe thead th {\n",
       "        text-align: right;\n",
       "    }\n",
       "</style>\n",
       "<table border=\"1\" class=\"dataframe\">\n",
       "  <thead>\n",
       "    <tr style=\"text-align: right;\">\n",
       "      <th></th>\n",
       "      <th>0</th>\n",
       "      <th>1</th>\n",
       "      <th>2</th>\n",
       "      <th>3</th>\n",
       "      <th>4</th>\n",
       "      <th>5</th>\n",
       "      <th>6</th>\n",
       "      <th>7</th>\n",
       "      <th>8</th>\n",
       "      <th>9</th>\n",
       "      <th>...</th>\n",
       "      <th>490</th>\n",
       "      <th>491</th>\n",
       "      <th>492</th>\n",
       "      <th>493</th>\n",
       "      <th>494</th>\n",
       "      <th>495</th>\n",
       "      <th>496</th>\n",
       "      <th>497</th>\n",
       "      <th>498</th>\n",
       "      <th>499</th>\n",
       "    </tr>\n",
       "  </thead>\n",
       "  <tbody>\n",
       "    <tr>\n",
       "      <th>0</th>\n",
       "      <td>2967</td>\n",
       "      <td>6758</td>\n",
       "      <td>339</td>\n",
       "      <td>2021</td>\n",
       "      <td>1854</td>\n",
       "      <td>3731</td>\n",
       "      <td>4109</td>\n",
       "      <td>3792</td>\n",
       "      <td>4149</td>\n",
       "      <td>1519</td>\n",
       "      <td>...</td>\n",
       "      <td>900</td>\n",
       "      <td>1635</td>\n",
       "      <td>3605</td>\n",
       "      <td>5028</td>\n",
       "      <td>3731</td>\n",
       "      <td>4109</td>\n",
       "      <td>3792</td>\n",
       "      <td>1866</td>\n",
       "      <td>3578</td>\n",
       "      <td>3915</td>\n",
       "    </tr>\n",
       "    <tr>\n",
       "      <th>1</th>\n",
       "      <td>4464</td>\n",
       "      <td>486</td>\n",
       "      <td>6352</td>\n",
       "      <td>5619</td>\n",
       "      <td>2465</td>\n",
       "      <td>4802</td>\n",
       "      <td>1452</td>\n",
       "      <td>3137</td>\n",
       "      <td>5778</td>\n",
       "      <td>5445</td>\n",
       "      <td>...</td>\n",
       "      <td>0</td>\n",
       "      <td>0</td>\n",
       "      <td>0</td>\n",
       "      <td>0</td>\n",
       "      <td>0</td>\n",
       "      <td>0</td>\n",
       "      <td>0</td>\n",
       "      <td>0</td>\n",
       "      <td>0</td>\n",
       "      <td>0</td>\n",
       "    </tr>\n",
       "    <tr>\n",
       "      <th>2</th>\n",
       "      <td>7346</td>\n",
       "      <td>4068</td>\n",
       "      <td>5074</td>\n",
       "      <td>3747</td>\n",
       "      <td>5681</td>\n",
       "      <td>6093</td>\n",
       "      <td>1777</td>\n",
       "      <td>2226</td>\n",
       "      <td>7354</td>\n",
       "      <td>6301</td>\n",
       "      <td>...</td>\n",
       "      <td>3223</td>\n",
       "      <td>3750</td>\n",
       "      <td>5338</td>\n",
       "      <td>1952</td>\n",
       "      <td>6583</td>\n",
       "      <td>2230</td>\n",
       "      <td>1679</td>\n",
       "      <td>4811</td>\n",
       "      <td>6122</td>\n",
       "      <td>1903</td>\n",
       "    </tr>\n",
       "    <tr>\n",
       "      <th>3</th>\n",
       "      <td>7159</td>\n",
       "      <td>948</td>\n",
       "      <td>4866</td>\n",
       "      <td>2109</td>\n",
       "      <td>5520</td>\n",
       "      <td>2490</td>\n",
       "      <td>211</td>\n",
       "      <td>3956</td>\n",
       "      <td>5520</td>\n",
       "      <td>5492</td>\n",
       "      <td>...</td>\n",
       "      <td>3659</td>\n",
       "      <td>3370</td>\n",
       "      <td>3370</td>\n",
       "      <td>4646</td>\n",
       "      <td>1519</td>\n",
       "      <td>408</td>\n",
       "      <td>671</td>\n",
       "      <td>6560</td>\n",
       "      <td>1465</td>\n",
       "      <td>7373</td>\n",
       "    </tr>\n",
       "    <tr>\n",
       "      <th>4</th>\n",
       "      <td>3646</td>\n",
       "      <td>3055</td>\n",
       "      <td>3055</td>\n",
       "      <td>2490</td>\n",
       "      <td>4659</td>\n",
       "      <td>6065</td>\n",
       "      <td>3370</td>\n",
       "      <td>5814</td>\n",
       "      <td>2465</td>\n",
       "      <td>5192</td>\n",
       "      <td>...</td>\n",
       "      <td>0</td>\n",
       "      <td>0</td>\n",
       "      <td>0</td>\n",
       "      <td>0</td>\n",
       "      <td>0</td>\n",
       "      <td>0</td>\n",
       "      <td>0</td>\n",
       "      <td>0</td>\n",
       "      <td>0</td>\n",
       "      <td>0</td>\n",
       "    </tr>\n",
       "  </tbody>\n",
       "</table>\n",
       "<p>5 rows × 500 columns</p>\n",
       "</div>"
      ],
      "text/plain": [
       "    0     1     2     3     4     5     6     7     8     9    ...   490  \\\n",
       "0  2967  6758   339  2021  1854  3731  4109  3792  4149  1519  ...   900   \n",
       "1  4464   486  6352  5619  2465  4802  1452  3137  5778  5445  ...     0   \n",
       "2  7346  4068  5074  3747  5681  6093  1777  2226  7354  6301  ...  3223   \n",
       "3  7159   948  4866  2109  5520  2490   211  3956  5520  5492  ...  3659   \n",
       "4  3646  3055  3055  2490  4659  6065  3370  5814  2465  5192  ...     0   \n",
       "\n",
       "    491   492   493   494   495   496   497   498   499  \n",
       "0  1635  3605  5028  3731  4109  3792  1866  3578  3915  \n",
       "1     0     0     0     0     0     0     0     0     0  \n",
       "2  3750  5338  1952  6583  2230  1679  4811  6122  1903  \n",
       "3  3370  3370  4646  1519   408   671  6560  1465  7373  \n",
       "4     0     0     0     0     0     0     0     0     0  \n",
       "\n",
       "[5 rows x 500 columns]"
      ]
     },
     "execution_count": 23,
     "metadata": {},
     "output_type": "execute_result"
    }
   ],
   "source": [
    "train_df_sp_dim.head()"
   ]
  },
  {
   "cell_type": "code",
   "execution_count": 3,
   "metadata": {},
   "outputs": [],
   "source": [
    "import gensim\n",
    "def trainWord2Vec(sentences):\n",
    "    sentences =  sentences # 读取分词后的 文本\n",
    "    model = gensim.models.Word2Vec(sentences, size=100, window=5, min_count=1,workers=4) # 训练模型\n",
    "\n",
    "    model.save('train_df_word2vec_100')\n",
    "trainWord2Vec(sentence)\n",
    "w2v_model = gensim.models.Word2Vec.load('train_df_word2vec_100')"
   ]
  },
  {
   "cell_type": "code",
   "execution_count": 3,
   "metadata": {},
   "outputs": [
    {
     "name": "stdout",
     "output_type": "stream",
     "text": [
      "空间的词向量（100维）: [-2.3705518   3.2533045  -4.9708037  -0.79389894  1.9914211  -0.301904\n",
      " -5.6782956  -5.9995923  -2.359339   -4.846098   -3.6699686  -0.6368235\n",
      " -8.009765   -3.3419464  -1.7875142  -1.4862533   6.077497    1.8678385\n",
      "  1.8748858  -4.999699    0.26233327 -3.1009955   0.6131117  -2.3796966\n",
      " -1.6341016   0.3910347  -1.976291   -5.6062226  -0.3480148  -0.7850354\n",
      " -0.022438   -1.787291    0.39634222  1.8265374   1.0559077  -3.0334482\n",
      "  3.2604153   0.50285035 -1.8127171   0.20586187  4.0493565   4.5724907\n",
      " -1.6233882   0.08876958 -4.1339297  -4.347536    2.8274536   2.3509414\n",
      " -2.7328708   1.0841515   0.15885222 -4.98063     2.649037    1.5258813\n",
      " -2.2913294  -4.8186517  -1.1097127  -1.1256517  -2.3413734  -5.716834\n",
      "  0.03691056  6.4748163   0.67043227 -1.6508362   2.8216207  -1.0049047\n",
      "  0.9573532   2.1282399   1.7960088  -1.3148023  -4.5058     -0.6443786\n",
      " -1.4303478  -2.4840052  -4.3729525   1.9504524   0.14382927  0.31797022\n",
      "  2.1460848   4.357296   -1.4620496  -0.7882465   2.2368855  -2.1263554\n",
      "  0.8778546  -0.94875646  0.94224536 -1.484811   -4.7216835   1.7711579\n",
      " -0.36912197 -1.4303569   3.4799404   5.162195    0.30763036  0.45745692\n",
      " -4.428599   -3.042354    1.9796408   2.8311021 ]\n",
      "打印与空间最相近的5个词语： [('1432', 0.5287402272224426), ('2986', 0.4176838994026184), ('799', 0.4035533666610718), ('5180', 0.3978945016860962), ('933', 0.394009530544281)]\n"
     ]
    },
    {
     "name": "stderr",
     "output_type": "stream",
     "text": [
      "D:\\coding\\anaconda\\envs\\py37\\lib\\site-packages\\ipykernel_launcher.py:6: DeprecationWarning: Call to deprecated `__getitem__` (Method will be removed in 4.0.0, use self.wv.__getitem__() instead).\n",
      "  \n",
      "D:\\coding\\anaconda\\envs\\py37\\lib\\site-packages\\ipykernel_launcher.py:7: DeprecationWarning: Call to deprecated `most_similar` (Method will be removed in 4.0.0, use self.wv.most_similar() instead).\n",
      "  import sys\n"
     ]
    }
   ],
   "source": [
    "# 读取自己的词向量，并简单测试一下 效果。\n",
    "import gensim\n",
    "inp = 'train_df_word2vec_100'  # 读取词向量\n",
    "w2v_model = gensim.models.Word2Vec.load(inp)\n",
    "\n",
    "print('空间的词向量（100维）:',w2v_model['2967'])\n",
    "print('打印与空间最相近的5个词语：',w2v_model.most_similar('2967', topn=5))\n"
   ]
  },
  {
   "cell_type": "code",
   "execution_count": 4,
   "metadata": {},
   "outputs": [
    {
     "name": "stdout",
     "output_type": "stream",
     "text": [
      "VOCAB_SIZE: 6308\n",
      "(6309, 100)\n"
     ]
    }
   ],
   "source": [
    "vocab_list = [(k, w2v_model.wv[k]) for k, v in w2v_model.wv.vocab.items()]\n",
    "word2idx = {\"_PAD\": 0} \n",
    "embeddings_matrix = np.zeros((len(w2v_model.wv.vocab.items()) + 1, w2v_model.vector_size))\n",
    "for i in range(len(vocab_list)):\n",
    "    word = vocab_list[i][0]\n",
    "    word2idx[word] = i + 1\n",
    "    embeddings_matrix[i + 1] = vocab_list[i][1]\n",
    "print('VOCAB_SIZE:',len(w2v_model.wv.index2word))\n",
    "print(embeddings_matrix.shape)"
   ]
  },
  {
   "cell_type": "code",
   "execution_count": 7,
   "metadata": {},
   "outputs": [],
   "source": [
    "list_token_map =[]\n",
    "for rows in sentence:\n",
    "    rows_token = [word2idx[word] for word in rows]\n",
    "    list_token_map.append(rows_token)\n",
    "train_df_sp_dim = pd.DataFrame(list_token_map).fillna(0)"
   ]
  },
  {
   "cell_type": "code",
   "execution_count": 29,
   "metadata": {},
   "outputs": [
    {
     "name": "stdout",
     "output_type": "stream",
     "text": [
      "6309\n"
     ]
    }
   ],
   "source": [
    "print(len(word2idx))"
   ]
  },
  {
   "cell_type": "markdown",
   "metadata": {},
   "source": [
    "textRnn"
   ]
  },
  {
   "cell_type": "code",
   "execution_count": 8,
   "metadata": {},
   "outputs": [],
   "source": [
    "import logging\n",
    "\n",
    "from tensorflow.keras import Input\n",
    "from tensorflow.keras.layers import Conv1D, MaxPool1D, Dense, Flatten, concatenate, Embedding, LSTM\n",
    "from tensorflow.keras.models import Model\n",
    "from tensorflow.keras.utils import plot_model\n",
    "\n",
    "\n",
    "def textRnn(max_sequence_length, max_token_num, embedding_dim, output_dim, model_img_path=None, embedding_matrix=None):\n",
    "    \"\"\" TextCNN: 1. embedding layers, 2.convolution layer, 3.max-pooling, 4.softmax layer. \"\"\"\n",
    "    x_input = Input(shape=(max_sequence_length,))\n",
    "    logging.info(\"x_input.shape: %s\" % str(x_input.shape))  # (?, 60)\n",
    "\n",
    "    if embedding_matrix is None:\n",
    "        x_emb = Embedding(input_dim=max_token_num, output_dim=embedding_dim,\n",
    "                          input_length=max_sequence_length)(x_input)\n",
    "    else:\n",
    "        x_emb = Embedding(input_dim=max_token_num, output_dim=embedding_dim, input_length=max_sequence_length,\n",
    "                          weights=[embedding_matrix], trainable=True)(x_input)\n",
    "    logging.info(\"x_emb.shape: %s\" % str(x_emb.shape))  # (?, 60, 300)\n",
    "\n",
    "    x_lstm1 = LSTM(128)(x_emb)\n",
    "    y = Dense(output_dim, activation='softmax')(x_lstm1)  # (?, 2)\n",
    "    logging.info(\"y.shape: %s \\n\" % str(y.shape))\n",
    "\n",
    "    model = Model([x_input], outputs=[y])\n",
    "    if model_img_path:\n",
    "        plot_model(model, to_file=model_img_path,\n",
    "                   show_shapes=True, show_layer_names=False)\n",
    "    model.compile(loss='sparse_categorical_crossentropy',\n",
    "                  optimizer='Adam', metrics=['accuracy'])\n",
    "    model.summary()\n",
    "    return model"
   ]
  },
  {
   "cell_type": "code",
   "execution_count": 9,
   "metadata": {},
   "outputs": [],
   "source": [
    "from sklearn.metrics import f1_score\n",
    "from sklearn.model_selection import train_test_split\n",
    "X_train, X_test, y_train, y_test = train_test_split(\n",
    "    train_df_sp_dim, train_df[['label']], test_size=0.3, random_state=0)"
   ]
  },
  {
   "cell_type": "code",
   "execution_count": 10,
   "metadata": {},
   "outputs": [
    {
     "name": "stdout",
     "output_type": "stream",
     "text": [
      "Model: \"model\"\n",
      "_________________________________________________________________\n",
      "Layer (type)                 Output Shape              Param #   \n",
      "=================================================================\n",
      "input_1 (InputLayer)         [(None, 500)]             0         \n",
      "_________________________________________________________________\n",
      "embedding (Embedding)        (None, 500, 100)          630900    \n",
      "_________________________________________________________________\n",
      "lstm (LSTM)                  (None, 128)               117248    \n",
      "_________________________________________________________________\n",
      "dense (Dense)                (None, 14)                1806      \n",
      "=================================================================\n",
      "Total params: 749,954\n",
      "Trainable params: 749,954\n",
      "Non-trainable params: 0\n",
      "_________________________________________________________________\n"
     ]
    }
   ],
   "source": [
    "VOCAB_SIZE = 6309\n",
    "EMBEDDING_DIM = 100\n",
    "MAX_WORDS = 500\n",
    "CLASS_NUM = 14\n",
    "model = textRnn( max_sequence_length=MAX_WORDS,\n",
    "        max_token_num=VOCAB_SIZE, embedding_dim=EMBEDDING_DIM, output_dim=CLASS_NUM,embedding_matrix=embeddings_matrix)"
   ]
  },
  {
   "cell_type": "code",
   "execution_count": null,
   "metadata": {},
   "outputs": [
    {
     "name": "stdout",
     "output_type": "stream",
     "text": [
      "Train on 68250 samples, validate on 22750 samples\n",
      "Epoch 1/50\n",
      "68250/68250 [==============================] - 40s 584us/sample - loss: 1.7712 - accuracy: 0.4336 - val_loss: 1.3960 - val_accuracy: 0.5583\n",
      "Epoch 2/50\n",
      "68250/68250 [==============================] - 31s 457us/sample - loss: 1.1042 - accuracy: 0.6587 - val_loss: 0.8821 - val_accuracy: 0.7337\n",
      "Epoch 3/50\n",
      "68250/68250 [==============================] - 31s 455us/sample - loss: 0.7888 - accuracy: 0.7595 - val_loss: 0.6828 - val_accuracy: 0.7928\n",
      "Epoch 4/50\n",
      "68250/68250 [==============================] - 31s 457us/sample - loss: 0.6131 - accuracy: 0.8175 - val_loss: 0.5759 - val_accuracy: 0.8265\n",
      "Epoch 5/50\n",
      "68250/68250 [==============================] - 31s 457us/sample - loss: 0.5161 - accuracy: 0.8451 - val_loss: 0.4947 - val_accuracy: 0.8506\n",
      "Epoch 6/50\n",
      "68250/68250 [==============================] - 31s 458us/sample - loss: 0.4419 - accuracy: 0.8691 - val_loss: 0.4468 - val_accuracy: 0.8692\n",
      "Epoch 7/50\n",
      "68250/68250 [==============================] - 31s 458us/sample - loss: 0.3847 - accuracy: 0.8849 - val_loss: 0.4557 - val_accuracy: 0.8637\n",
      "Epoch 8/50\n",
      "68250/68250 [==============================] - 31s 458us/sample - loss: 0.3659 - accuracy: 0.8908 - val_loss: 0.3631 - val_accuracy: 0.8899\n",
      "Epoch 9/50\n",
      "68250/68250 [==============================] - 31s 457us/sample - loss: 0.3297 - accuracy: 0.9011 - val_loss: 0.3570 - val_accuracy: 0.8919\n",
      "Epoch 10/50\n",
      "68250/68250 [==============================] - 31s 459us/sample - loss: 0.2901 - accuracy: 0.9124 - val_loss: 0.3288 - val_accuracy: 0.9022\n",
      "Epoch 11/50\n",
      "68250/68250 [==============================] - 31s 461us/sample - loss: 0.2751 - accuracy: 0.9171 - val_loss: 0.3275 - val_accuracy: 0.9029\n",
      "Epoch 12/50\n",
      "68250/68250 [==============================] - 31s 458us/sample - loss: 0.2573 - accuracy: 0.9217 - val_loss: 0.3167 - val_accuracy: 0.9047\n",
      "Epoch 13/50\n",
      "68250/68250 [==============================] - 31s 460us/sample - loss: 0.2273 - accuracy: 0.9314 - val_loss: 0.3007 - val_accuracy: 0.9099\n",
      "Epoch 14/50\n",
      "38656/68250 [===============>..............] - ETA: 12s - loss: 0.2009 - accuracy: 0.9393"
     ]
    }
   ],
   "source": [
    "model.fit(X_train.astype('float64'), y_train.astype('float64'), batch_size=256,\n",
    "          epochs=50, validation_split=0.25,use_multiprocessing=True)"
   ]
  }
 ],
 "metadata": {
  "kernelspec": {
   "display_name": "Python [conda env:py37] *",
   "language": "python",
   "name": "conda-env-py37-py"
  },
  "language_info": {
   "codemirror_mode": {
    "name": "ipython",
    "version": 3
   },
   "file_extension": ".py",
   "mimetype": "text/x-python",
   "name": "python",
   "nbconvert_exporter": "python",
   "pygments_lexer": "ipython3",
   "version": "3.7.7"
  },
  "toc-autonumbering": false,
  "toc-showcode": true,
  "toc-showmarkdowntxt": true,
  "toc-showtags": true
 },
 "nbformat": 4,
 "nbformat_minor": 4
}
